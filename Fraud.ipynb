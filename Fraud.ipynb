{
 "cells": [
  {
   "cell_type": "markdown",
   "id": "cac16b0d-ee6d-4fba-988f-a937ebfce681",
   "metadata": {},
   "source": [
    "## Fraud Detection"
   ]
  },
  {
   "cell_type": "markdown",
   "id": "6175a35d-33db-4247-8e96-8aa1c91422f5",
   "metadata": {},
   "source": [
    "### Import libraries "
   ]
  },
  {
   "cell_type": "code",
   "execution_count": 1,
   "id": "8509b8d7-3fab-405d-a1bd-b42e99ed0e99",
   "metadata": {},
   "outputs": [],
   "source": [
    "import numpy as np \n",
    "import pandas as pd\n",
    "import matplotlib.pyplot as plt\n",
    "import seaborn as sns \n",
    "import warnings\n",
    "warnings.simplefilter(action=\"ignore\",category=FutureWarning)"
   ]
  },
  {
   "cell_type": "code",
   "execution_count": 2,
   "id": "76708258-aa80-471a-bb61-e8e9145b6634",
   "metadata": {},
   "outputs": [
    {
     "data": {
      "text/html": [
       "<div>\n",
       "<style scoped>\n",
       "    .dataframe tbody tr th:only-of-type {\n",
       "        vertical-align: middle;\n",
       "    }\n",
       "\n",
       "    .dataframe tbody tr th {\n",
       "        vertical-align: top;\n",
       "    }\n",
       "\n",
       "    .dataframe thead th {\n",
       "        text-align: right;\n",
       "    }\n",
       "</style>\n",
       "<table border=\"1\" class=\"dataframe\">\n",
       "  <thead>\n",
       "    <tr style=\"text-align: right;\">\n",
       "      <th></th>\n",
       "      <th>step</th>\n",
       "      <th>type</th>\n",
       "      <th>amount</th>\n",
       "      <th>nameOrig</th>\n",
       "      <th>oldbalanceOrg</th>\n",
       "      <th>newbalanceOrig</th>\n",
       "      <th>nameDest</th>\n",
       "      <th>oldbalanceDest</th>\n",
       "      <th>newbalanceDest</th>\n",
       "      <th>isFraud</th>\n",
       "      <th>isFlaggedFraud</th>\n",
       "    </tr>\n",
       "  </thead>\n",
       "  <tbody>\n",
       "    <tr>\n",
       "      <th>0</th>\n",
       "      <td>1</td>\n",
       "      <td>PAYMENT</td>\n",
       "      <td>9839.64</td>\n",
       "      <td>C1231006815</td>\n",
       "      <td>170136.0</td>\n",
       "      <td>160296.36</td>\n",
       "      <td>M1979787155</td>\n",
       "      <td>0.0</td>\n",
       "      <td>0.0</td>\n",
       "      <td>0</td>\n",
       "      <td>0</td>\n",
       "    </tr>\n",
       "    <tr>\n",
       "      <th>1</th>\n",
       "      <td>1</td>\n",
       "      <td>PAYMENT</td>\n",
       "      <td>1864.28</td>\n",
       "      <td>C1666544295</td>\n",
       "      <td>21249.0</td>\n",
       "      <td>19384.72</td>\n",
       "      <td>M2044282225</td>\n",
       "      <td>0.0</td>\n",
       "      <td>0.0</td>\n",
       "      <td>0</td>\n",
       "      <td>0</td>\n",
       "    </tr>\n",
       "    <tr>\n",
       "      <th>2</th>\n",
       "      <td>1</td>\n",
       "      <td>TRANSFER</td>\n",
       "      <td>181.00</td>\n",
       "      <td>C1305486145</td>\n",
       "      <td>181.0</td>\n",
       "      <td>0.00</td>\n",
       "      <td>C553264065</td>\n",
       "      <td>0.0</td>\n",
       "      <td>0.0</td>\n",
       "      <td>1</td>\n",
       "      <td>0</td>\n",
       "    </tr>\n",
       "    <tr>\n",
       "      <th>3</th>\n",
       "      <td>1</td>\n",
       "      <td>CASH_OUT</td>\n",
       "      <td>181.00</td>\n",
       "      <td>C840083671</td>\n",
       "      <td>181.0</td>\n",
       "      <td>0.00</td>\n",
       "      <td>C38997010</td>\n",
       "      <td>21182.0</td>\n",
       "      <td>0.0</td>\n",
       "      <td>1</td>\n",
       "      <td>0</td>\n",
       "    </tr>\n",
       "    <tr>\n",
       "      <th>4</th>\n",
       "      <td>1</td>\n",
       "      <td>PAYMENT</td>\n",
       "      <td>11668.14</td>\n",
       "      <td>C2048537720</td>\n",
       "      <td>41554.0</td>\n",
       "      <td>29885.86</td>\n",
       "      <td>M1230701703</td>\n",
       "      <td>0.0</td>\n",
       "      <td>0.0</td>\n",
       "      <td>0</td>\n",
       "      <td>0</td>\n",
       "    </tr>\n",
       "  </tbody>\n",
       "</table>\n",
       "</div>"
      ],
      "text/plain": [
       "   step      type    amount     nameOrig  oldbalanceOrg  newbalanceOrig  \\\n",
       "0     1   PAYMENT   9839.64  C1231006815       170136.0       160296.36   \n",
       "1     1   PAYMENT   1864.28  C1666544295        21249.0        19384.72   \n",
       "2     1  TRANSFER    181.00  C1305486145          181.0            0.00   \n",
       "3     1  CASH_OUT    181.00   C840083671          181.0            0.00   \n",
       "4     1   PAYMENT  11668.14  C2048537720        41554.0        29885.86   \n",
       "\n",
       "      nameDest  oldbalanceDest  newbalanceDest  isFraud  isFlaggedFraud  \n",
       "0  M1979787155             0.0             0.0        0               0  \n",
       "1  M2044282225             0.0             0.0        0               0  \n",
       "2   C553264065             0.0             0.0        1               0  \n",
       "3    C38997010         21182.0             0.0        1               0  \n",
       "4  M1230701703             0.0             0.0        0               0  "
      ]
     },
     "execution_count": 2,
     "metadata": {},
     "output_type": "execute_result"
    }
   ],
   "source": [
    "data=pd.read_csv(\"Downloads/Fraud.csv\")\n",
    "data.head()"
   ]
  },
  {
   "cell_type": "code",
   "execution_count": 3,
   "id": "b8e9a958-b40c-4c9e-a8a7-a7981a707261",
   "metadata": {},
   "outputs": [
    {
     "data": {
      "text/html": [
       "<div>\n",
       "<style scoped>\n",
       "    .dataframe tbody tr th:only-of-type {\n",
       "        vertical-align: middle;\n",
       "    }\n",
       "\n",
       "    .dataframe tbody tr th {\n",
       "        vertical-align: top;\n",
       "    }\n",
       "\n",
       "    .dataframe thead th {\n",
       "        text-align: right;\n",
       "    }\n",
       "</style>\n",
       "<table border=\"1\" class=\"dataframe\">\n",
       "  <thead>\n",
       "    <tr style=\"text-align: right;\">\n",
       "      <th></th>\n",
       "      <th>step</th>\n",
       "      <th>type</th>\n",
       "      <th>amount</th>\n",
       "      <th>nameOrig</th>\n",
       "      <th>oldbalanceOrg</th>\n",
       "      <th>newbalanceOrig</th>\n",
       "      <th>nameDest</th>\n",
       "      <th>oldbalanceDest</th>\n",
       "      <th>newbalanceDest</th>\n",
       "      <th>isFraud</th>\n",
       "      <th>isFlaggedFraud</th>\n",
       "    </tr>\n",
       "  </thead>\n",
       "  <tbody>\n",
       "    <tr>\n",
       "      <th>0</th>\n",
       "      <td>1</td>\n",
       "      <td>PAYMENT</td>\n",
       "      <td>9839.64</td>\n",
       "      <td>C1231006815</td>\n",
       "      <td>170136.0</td>\n",
       "      <td>160296.36</td>\n",
       "      <td>M1979787155</td>\n",
       "      <td>0.0</td>\n",
       "      <td>0.0</td>\n",
       "      <td>0</td>\n",
       "      <td>0</td>\n",
       "    </tr>\n",
       "    <tr>\n",
       "      <th>1</th>\n",
       "      <td>1</td>\n",
       "      <td>PAYMENT</td>\n",
       "      <td>1864.28</td>\n",
       "      <td>C1666544295</td>\n",
       "      <td>21249.0</td>\n",
       "      <td>19384.72</td>\n",
       "      <td>M2044282225</td>\n",
       "      <td>0.0</td>\n",
       "      <td>0.0</td>\n",
       "      <td>0</td>\n",
       "      <td>0</td>\n",
       "    </tr>\n",
       "    <tr>\n",
       "      <th>2</th>\n",
       "      <td>1</td>\n",
       "      <td>TRANSFER</td>\n",
       "      <td>181.00</td>\n",
       "      <td>C1305486145</td>\n",
       "      <td>181.0</td>\n",
       "      <td>0.00</td>\n",
       "      <td>C553264065</td>\n",
       "      <td>0.0</td>\n",
       "      <td>0.0</td>\n",
       "      <td>1</td>\n",
       "      <td>0</td>\n",
       "    </tr>\n",
       "    <tr>\n",
       "      <th>3</th>\n",
       "      <td>1</td>\n",
       "      <td>CASH_OUT</td>\n",
       "      <td>181.00</td>\n",
       "      <td>C840083671</td>\n",
       "      <td>181.0</td>\n",
       "      <td>0.00</td>\n",
       "      <td>C38997010</td>\n",
       "      <td>21182.0</td>\n",
       "      <td>0.0</td>\n",
       "      <td>1</td>\n",
       "      <td>0</td>\n",
       "    </tr>\n",
       "    <tr>\n",
       "      <th>4</th>\n",
       "      <td>1</td>\n",
       "      <td>PAYMENT</td>\n",
       "      <td>11668.14</td>\n",
       "      <td>C2048537720</td>\n",
       "      <td>41554.0</td>\n",
       "      <td>29885.86</td>\n",
       "      <td>M1230701703</td>\n",
       "      <td>0.0</td>\n",
       "      <td>0.0</td>\n",
       "      <td>0</td>\n",
       "      <td>0</td>\n",
       "    </tr>\n",
       "  </tbody>\n",
       "</table>\n",
       "</div>"
      ],
      "text/plain": [
       "   step      type    amount     nameOrig  oldbalanceOrg  newbalanceOrig  \\\n",
       "0     1   PAYMENT   9839.64  C1231006815       170136.0       160296.36   \n",
       "1     1   PAYMENT   1864.28  C1666544295        21249.0        19384.72   \n",
       "2     1  TRANSFER    181.00  C1305486145          181.0            0.00   \n",
       "3     1  CASH_OUT    181.00   C840083671          181.0            0.00   \n",
       "4     1   PAYMENT  11668.14  C2048537720        41554.0        29885.86   \n",
       "\n",
       "      nameDest  oldbalanceDest  newbalanceDest  isFraud  isFlaggedFraud  \n",
       "0  M1979787155             0.0             0.0        0               0  \n",
       "1  M2044282225             0.0             0.0        0               0  \n",
       "2   C553264065             0.0             0.0        1               0  \n",
       "3    C38997010         21182.0             0.0        1               0  \n",
       "4  M1230701703             0.0             0.0        0               0  "
      ]
     },
     "execution_count": 3,
     "metadata": {},
     "output_type": "execute_result"
    }
   ],
   "source": [
    "data.head()"
   ]
  },
  {
   "cell_type": "code",
   "execution_count": 4,
   "id": "29f24084-c0bf-4ccd-8ce5-ed9992f514ed",
   "metadata": {},
   "outputs": [
    {
     "name": "stdout",
     "output_type": "stream",
     "text": [
      "<class 'pandas.core.frame.DataFrame'>\n",
      "RangeIndex: 6362620 entries, 0 to 6362619\n",
      "Data columns (total 11 columns):\n",
      " #   Column          Dtype  \n",
      "---  ------          -----  \n",
      " 0   step            int64  \n",
      " 1   type            object \n",
      " 2   amount          float64\n",
      " 3   nameOrig        object \n",
      " 4   oldbalanceOrg   float64\n",
      " 5   newbalanceOrig  float64\n",
      " 6   nameDest        object \n",
      " 7   oldbalanceDest  float64\n",
      " 8   newbalanceDest  float64\n",
      " 9   isFraud         int64  \n",
      " 10  isFlaggedFraud  int64  \n",
      "dtypes: float64(5), int64(3), object(3)\n",
      "memory usage: 534.0+ MB\n"
     ]
    }
   ],
   "source": [
    "data.info()"
   ]
  },
  {
   "cell_type": "markdown",
   "id": "824c64f4-6758-402c-9c84-5d3718a41b40",
   "metadata": {},
   "source": [
    "### Data cleaning"
   ]
  },
  {
   "cell_type": "code",
   "execution_count": 5,
   "id": "4ed6a82c-df80-48dd-9399-461d540bd9b9",
   "metadata": {},
   "outputs": [
    {
     "data": {
      "text/plain": [
       "step              0\n",
       "type              0\n",
       "amount            0\n",
       "nameOrig          0\n",
       "oldbalanceOrg     0\n",
       "newbalanceOrig    0\n",
       "nameDest          0\n",
       "oldbalanceDest    0\n",
       "newbalanceDest    0\n",
       "isFraud           0\n",
       "isFlaggedFraud    0\n",
       "dtype: int64"
      ]
     },
     "execution_count": 5,
     "metadata": {},
     "output_type": "execute_result"
    }
   ],
   "source": [
    "data.isnull().sum()"
   ]
  },
  {
   "cell_type": "code",
   "execution_count": 6,
   "id": "14ea4bb5-b0eb-4b41-827d-5a91dff9fd3e",
   "metadata": {},
   "outputs": [
    {
     "data": {
      "text/plain": [
       "0"
      ]
     },
     "execution_count": 6,
     "metadata": {},
     "output_type": "execute_result"
    }
   ],
   "source": [
    "data.duplicated().sum()"
   ]
  },
  {
   "cell_type": "markdown",
   "id": "fba23065-b9b3-42ba-84dc-b1494d67f354",
   "metadata": {},
   "source": [
    "###### The data is well cleaned and does not have any null or duplicate data"
   ]
  },
  {
   "cell_type": "code",
   "execution_count": 7,
   "id": "5cba4588-0d6a-4533-b919-7fbfa127aa16",
   "metadata": {},
   "outputs": [
    {
     "data": {
      "text/plain": [
       "Index(['step', 'type', 'amount', 'nameOrig', 'oldbalanceOrg', 'newbalanceOrig',\n",
       "       'nameDest', 'oldbalanceDest', 'newbalanceDest', 'isFraud',\n",
       "       'isFlaggedFraud'],\n",
       "      dtype='object')"
      ]
     },
     "execution_count": 7,
     "metadata": {},
     "output_type": "execute_result"
    }
   ],
   "source": [
    "data.columns"
   ]
  },
  {
   "cell_type": "code",
   "execution_count": 8,
   "id": "f3767135-30fd-484c-b2a4-2bc2483dfc6c",
   "metadata": {},
   "outputs": [
    {
     "data": {
      "text/plain": [
       "type\n",
       "CASH_OUT    2237500\n",
       "PAYMENT     2151495\n",
       "CASH_IN     1399284\n",
       "TRANSFER     532909\n",
       "DEBIT         41432\n",
       "Name: count, dtype: int64"
      ]
     },
     "execution_count": 8,
     "metadata": {},
     "output_type": "execute_result"
    }
   ],
   "source": [
    "data['type'].value_counts()"
   ]
  },
  {
   "cell_type": "code",
   "execution_count": 9,
   "id": "d07143ac-db06-49a8-b00f-8de1da34ef6b",
   "metadata": {},
   "outputs": [
    {
     "data": {
      "image/png": "[encoded data removed]",
      "text/plain": [
       "<Figure size 1000x700 with 1 Axes>"
      ]
     },
     "metadata": {},
     "output_type": "display_data"
    }
   ],
   "source": [
    "fig = plt.figure(figsize =(10, 7))\n",
    "data['type'].value_counts(normalize=True).plot(kind='bar')\n",
    "plt.show()"
   ]
  },
  {
   "cell_type": "markdown",
   "id": "6f85ef63-ece6-4fc8-a73b-d26320be1257",
   "metadata": {},
   "source": [
    "### Droping unnecessery data columns"
   ]
  },
  {
   "cell_type": "code",
   "execution_count": 10,
   "id": "88661db4-cac1-4ca4-beb3-45ec86a3a6ea",
   "metadata": {},
   "outputs": [],
   "source": [
    "data.drop(['isFlaggedFraud','nameOrig','nameDest','step'], axis = 1, inplace = True)"
   ]
  },
  {
   "cell_type": "markdown",
   "id": "8ad0f5ad-226b-4701-a52a-f81740ed97b2",
   "metadata": {},
   "source": [
    "To optimize the model's performance, I conducted a correlation analysis on all features. This analysis revealed a high degree of correlation between certain features. To avoid multicollinearity, which can negatively impact model accuracy, I decided to remove list of column names from the dataset. This ensures the remaining features provide independent and informative contributions to the mode"
   ]
  },
  {
   "cell_type": "markdown",
   "id": "29481be8-abe3-49c5-86fb-2dd8ddedb23c",
   "metadata": {},
   "source": [
    "### Convert categorical  into numerical"
   ]
  },
  {
   "cell_type": "code",
   "execution_count": 11,
   "id": "bddcf814-dc7f-4475-82a2-2f1f926a9684",
   "metadata": {},
   "outputs": [],
   "source": [
    "data['type'] = data['type'].map({'CASH_OUT':1, 'PAYMENT':2, 'CASH_IN':3, 'TRANSFER':4, 'DEBIT':5})"
   ]
  },
  {
   "cell_type": "code",
   "execution_count": 12,
   "id": "de61d33a-b816-4157-a7e4-30b3d317ce02",
   "metadata": {},
   "outputs": [
    {
     "data": {
      "text/html": [
       "<div>\n",
       "<style scoped>\n",
       "    .dataframe tbody tr th:only-of-type {\n",
       "        vertical-align: middle;\n",
       "    }\n",
       "\n",
       "    .dataframe tbody tr th {\n",
       "        vertical-align: top;\n",
       "    }\n",
       "\n",
       "    .dataframe thead th {\n",
       "        text-align: right;\n",
       "    }\n",
       "</style>\n",
       "<table border=\"1\" class=\"dataframe\">\n",
       "  <thead>\n",
       "    <tr style=\"text-align: right;\">\n",
       "      <th></th>\n",
       "      <th>type</th>\n",
       "      <th>amount</th>\n",
       "      <th>oldbalanceOrg</th>\n",
       "      <th>newbalanceOrig</th>\n",
       "      <th>oldbalanceDest</th>\n",
       "      <th>newbalanceDest</th>\n",
       "      <th>isFraud</th>\n",
       "    </tr>\n",
       "  </thead>\n",
       "  <tbody>\n",
       "    <tr>\n",
       "      <th>count</th>\n",
       "      <td>6.362620e+06</td>\n",
       "      <td>6.362620e+06</td>\n",
       "      <td>6.362620e+06</td>\n",
       "      <td>6.362620e+06</td>\n",
       "      <td>6.362620e+06</td>\n",
       "      <td>6.362620e+06</td>\n",
       "      <td>6.362620e+06</td>\n",
       "    </tr>\n",
       "    <tr>\n",
       "      <th>mean</th>\n",
       "      <td>2.055307e+00</td>\n",
       "      <td>1.798619e+05</td>\n",
       "      <td>8.338831e+05</td>\n",
       "      <td>8.551137e+05</td>\n",
       "      <td>1.100702e+06</td>\n",
       "      <td>1.224996e+06</td>\n",
       "      <td>1.290820e-03</td>\n",
       "    </tr>\n",
       "    <tr>\n",
       "      <th>std</th>\n",
       "      <td>9.808966e-01</td>\n",
       "      <td>6.038582e+05</td>\n",
       "      <td>2.888243e+06</td>\n",
       "      <td>2.924049e+06</td>\n",
       "      <td>3.399180e+06</td>\n",
       "      <td>3.674129e+06</td>\n",
       "      <td>3.590480e-02</td>\n",
       "    </tr>\n",
       "    <tr>\n",
       "      <th>min</th>\n",
       "      <td>1.000000e+00</td>\n",
       "      <td>0.000000e+00</td>\n",
       "      <td>0.000000e+00</td>\n",
       "      <td>0.000000e+00</td>\n",
       "      <td>0.000000e+00</td>\n",
       "      <td>0.000000e+00</td>\n",
       "      <td>0.000000e+00</td>\n",
       "    </tr>\n",
       "    <tr>\n",
       "      <th>25%</th>\n",
       "      <td>1.000000e+00</td>\n",
       "      <td>1.338957e+04</td>\n",
       "      <td>0.000000e+00</td>\n",
       "      <td>0.000000e+00</td>\n",
       "      <td>0.000000e+00</td>\n",
       "      <td>0.000000e+00</td>\n",
       "      <td>0.000000e+00</td>\n",
       "    </tr>\n",
       "    <tr>\n",
       "      <th>50%</th>\n",
       "      <td>2.000000e+00</td>\n",
       "      <td>7.487194e+04</td>\n",
       "      <td>1.420800e+04</td>\n",
       "      <td>0.000000e+00</td>\n",
       "      <td>1.327057e+05</td>\n",
       "      <td>2.146614e+05</td>\n",
       "      <td>0.000000e+00</td>\n",
       "    </tr>\n",
       "    <tr>\n",
       "      <th>75%</th>\n",
       "      <td>3.000000e+00</td>\n",
       "      <td>2.087215e+05</td>\n",
       "      <td>1.073152e+05</td>\n",
       "      <td>1.442584e+05</td>\n",
       "      <td>9.430367e+05</td>\n",
       "      <td>1.111909e+06</td>\n",
       "      <td>0.000000e+00</td>\n",
       "    </tr>\n",
       "    <tr>\n",
       "      <th>max</th>\n",
       "      <td>5.000000e+00</td>\n",
       "      <td>9.244552e+07</td>\n",
       "      <td>5.958504e+07</td>\n",
       "      <td>4.958504e+07</td>\n",
       "      <td>3.560159e+08</td>\n",
       "      <td>3.561793e+08</td>\n",
       "      <td>1.000000e+00</td>\n",
       "    </tr>\n",
       "  </tbody>\n",
       "</table>\n",
       "</div>"
      ],
      "text/plain": [
       "               type        amount  oldbalanceOrg  newbalanceOrig  \\\n",
       "count  6.362620e+06  6.362620e+06   6.362620e+06    6.362620e+06   \n",
       "mean   2.055307e+00  1.798619e+05   8.338831e+05    8.551137e+05   \n",
       "std    9.808966e-01  6.038582e+05   2.888243e+06    2.924049e+06   \n",
       "min    1.000000e+00  0.000000e+00   0.000000e+00    0.000000e+00   \n",
       "25%    1.000000e+00  1.338957e+04   0.000000e+00    0.000000e+00   \n",
       "50%    2.000000e+00  7.487194e+04   1.420800e+04    0.000000e+00   \n",
       "75%    3.000000e+00  2.087215e+05   1.073152e+05    1.442584e+05   \n",
       "max    5.000000e+00  9.244552e+07   5.958504e+07    4.958504e+07   \n",
       "\n",
       "       oldbalanceDest  newbalanceDest       isFraud  \n",
       "count    6.362620e+06    6.362620e+06  6.362620e+06  \n",
       "mean     1.100702e+06    1.224996e+06  1.290820e-03  \n",
       "std      3.399180e+06    3.674129e+06  3.590480e-02  \n",
       "min      0.000000e+00    0.000000e+00  0.000000e+00  \n",
       "25%      0.000000e+00    0.000000e+00  0.000000e+00  \n",
       "50%      1.327057e+05    2.146614e+05  0.000000e+00  \n",
       "75%      9.430367e+05    1.111909e+06  0.000000e+00  \n",
       "max      3.560159e+08    3.561793e+08  1.000000e+00  "
      ]
     },
     "execution_count": 12,
     "metadata": {},
     "output_type": "execute_result"
    }
   ],
   "source": [
    "data.describe()"
   ]
  },
  {
   "cell_type": "markdown",
   "id": "26fc6850-8e19-4277-ae52-a125f890152a",
   "metadata": {},
   "source": [
    "### Splitting data into Target"
   ]
  },
  {
   "cell_type": "code",
   "execution_count": 13,
   "id": "86d46f78-bdc1-4966-a0a6-6cd46203751e",
   "metadata": {},
   "outputs": [
    {
     "name": "stdout",
     "output_type": "stream",
     "text": [
      "(6362620, 6)\n",
      "(6362620,)\n"
     ]
    }
   ],
   "source": [
    "x = data.drop(['isFraud'], axis=1)\n",
    "y = data['isFraud']\n",
    "print(x.shape)\n",
    "print(y.shape)"
   ]
  },
  {
   "cell_type": "markdown",
   "id": "834e2583-d09e-475d-889e-5f8906035451",
   "metadata": {},
   "source": [
    "### yes this factors make sense based on :\n",
    "Types which will differiate the transaction types carry varying fraud risks.\n",
    "\n",
    "Amounts enables us to know if the large transactions can be a red flag as fraudsters often seek to move significant funds rapidly.\n",
    "\n",
    "Origin account balance enables us to Monitore  the origin account's balance before and after a transaction is crucial.Unusual drops or a lack of change could indicate suspicious activity.\n",
    "\n",
    "Destination account balance which is basically Similarly to  analyzing the destination account's balance is important. Unexpected large inflows or a lack of change could point towards fraud.\n",
    "\n",
    "Considering this factors can enbles us to gain a more comprehensive picture of potential fraudulent activity within the  system."
   ]
  },
  {
   "cell_type": "code",
   "execution_count": 14,
   "id": "d887e526-9f8e-402a-9f15-1caf134ed19d",
   "metadata": {},
   "outputs": [],
   "source": [
    "# Models Libraries\n",
    "from sklearn.model_selection import train_test_split\n",
    "from sklearn.preprocessing import StandardScaler\n",
    "from sklearn.linear_model import LogisticRegression\n",
    "from sklearn.naive_bayes import GaussianNB\n",
    "from sklearn.tree import DecisionTreeClassifier\n",
    "# Evaluation Metric Libraries\n",
    "from sklearn.metrics import confusion_matrix, ConfusionMatrixDisplay, classification_report, accuracy_score,precision_score, recall_score,f1_score, roc_auc_score\n"
   ]
  },
  {
   "cell_type": "markdown",
   "id": "a9655082-6db8-4504-aadc-60f1ab8115b8",
   "metadata": {},
   "source": [
    "### Splitting data into train and test"
   ]
  },
  {
   "cell_type": "code",
   "execution_count": 15,
   "id": "f90879bd-b662-409f-b5a6-964dc540f8b0",
   "metadata": {},
   "outputs": [
    {
     "name": "stdout",
     "output_type": "stream",
     "text": [
      "X_train shape - (5090096, 6)\n",
      "X_test shape - (1272524, 6)\n"
     ]
    }
   ],
   "source": [
    "x_train, x_test, y_train, y_test = train_test_split(x, y, test_size=0.2, random_state=42)\n",
    "print(f'X_train shape - {x_train.shape}')\n",
    "print(f'X_test shape - {x_test.shape}')"
   ]
  },
  {
   "cell_type": "code",
   "execution_count": 16,
   "id": "47eb9d91-e36e-45a3-8756-affe778d20dd",
   "metadata": {},
   "outputs": [],
   "source": [
    "scale = StandardScaler()\n",
    "scale.fit(x_train)\n",
    "x_train_scale = scale.transform(x_train)\n",
    "x_test_scale = scale.transform(x_test)"
   ]
  },
  {
   "cell_type": "markdown",
   "id": "e4f576e2-5683-4bd6-9f66-9eba1def96df",
   "metadata": {},
   "source": [
    "### LogisticRegression"
   ]
  },
  {
   "cell_type": "code",
   "execution_count": 17,
   "id": "928b171d-64ce-4e50-a6fb-dbcbfb5a0dba",
   "metadata": {},
   "outputs": [
    {
     "name": "stdout",
     "output_type": "stream",
     "text": [
      "Training accuracy: 99.92 %\n",
      "Testing accuracy: 99.92 %\n"
     ]
    }
   ],
   "source": [
    "lr_model = LogisticRegression()\n",
    "lr_model.fit(x_train_scale, y_train)\n",
    "y_pred_LR = lr_model.predict(x_test_scale)\n",
    "\n",
    "# Quick evaluation\n",
    "Train_Accuracy = lr_model.score(x_train_scale, y_train)\n",
    "Test_Accuracy = lr_model.score(x_test_scale, y_test)\n",
    "print(f'Training accuracy: {Train_Accuracy*100:.2f} %')\n",
    "print(f'Testing accuracy: {Test_Accuracy*100:.2f} %')"
   ]
  },
  {
   "cell_type": "markdown",
   "id": "b33fadef-4c61-46ed-8bc1-a1689d841f01",
   "metadata": {},
   "source": [
    "### Evaluation for logistic regression "
   ]
  },
  {
   "cell_type": "code",
   "execution_count": 18,
   "id": "e619b0a5-1e28-488e-b83d-88a22efd6599",
   "metadata": {},
   "outputs": [
    {
     "name": "stdout",
     "output_type": "stream",
     "text": [
      "Accuracy: 99.92 %\n",
      "\n",
      "Precision: 87.48 %\n",
      "\n",
      "Recall: 39.69 %\n",
      "\n",
      "F1 Score: 54.61 %\n",
      "\n",
      "AUC_ROC: 69.84 %\n",
      "\n"
     ]
    }
   ],
   "source": [
    "# Accuracy\n",
    "lr_Accuracy = accuracy_score(y_test, y_pred_LR)\n",
    "print(f'Accuracy: {lr_Accuracy * 100:.2f} %\\n')\n",
    "\n",
    "# Precision\n",
    "lr_Precision = precision_score(y_test, y_pred_LR)\n",
    "print(f'Precision: {lr_Precision * 100:.2f} %\\n')\n",
    "\n",
    "# Recall\n",
    "lr_Recall = recall_score(y_test, y_pred_LR)\n",
    "print(f'Recall: {lr_Recall * 100:.2f} %\\n')\n",
    "\n",
    "# F1 Score\n",
    "lr_F1_Score = f1_score(y_test, y_pred_LR)\n",
    "print(f'F1 Score: {lr_F1_Score * 100:.2f} %\\n')\n",
    "\n",
    "# ROC AUC Score\n",
    "lr_ROC_AUC = roc_auc_score(y_test, y_pred_LR)\n",
    "print(f'AUC_ROC: {lr_ROC_AUC * 100:.2f} %\\n')"
   ]
  },
  {
   "cell_type": "markdown",
   "id": "531f8255-48ea-4dcd-9015-003414d87363",
   "metadata": {},
   "source": [
    "### DecisionTree Model"
   ]
  },
  {
   "cell_type": "code",
   "execution_count": 19,
   "id": "9d388c89-cab1-45fb-be19-0c639896c77a",
   "metadata": {},
   "outputs": [
    {
     "name": "stdout",
     "output_type": "stream",
     "text": [
      "Training accuracy: 100.00 %\n",
      "Testing accuracy: 99.98 %\n"
     ]
    }
   ],
   "source": [
    "dt_model = DecisionTreeClassifier()\n",
    "dt_model.fit(x_train_scale, y_train)\n",
    "y_pred_DT = dt_model.predict(x_test_scale)\n",
    "\n",
    "# Quick evaluation\n",
    "Train_Accuracy = dt_model.score(x_train_scale, y_train)\n",
    "Test_Accuracy = dt_model.score(x_test_scale, y_test)\n",
    "print(f'Training accuracy: {Train_Accuracy*100:.2f} %')\n",
    "print(f'Testing accuracy: {Test_Accuracy*100:.2f} %')"
   ]
  },
  {
   "cell_type": "markdown",
   "id": "db835658-11d3-449c-a855-2ff347cdc239",
   "metadata": {},
   "source": [
    "### Evaluation of DecisionTree "
   ]
  },
  {
   "cell_type": "code",
   "execution_count": 20,
   "id": "a4c36a8a-6e6c-44ad-8ae7-859186004fe7",
   "metadata": {},
   "outputs": [
    {
     "name": "stdout",
     "output_type": "stream",
     "text": [
      "Accuracy Score : 99.98 %\n",
      "\n",
      "Precision Score : 91.17 %\n",
      "\n",
      "Recall Score : 90.49 %\n",
      "\n",
      "F1 Score : 90.83 %\n",
      "\n",
      "AUC_ROC : 95.24 %\n",
      "\n"
     ]
    }
   ],
   "source": [
    "# Accuracy\n",
    "dt_Accuracy = accuracy_score(y_test, y_pred_DT)\n",
    "print(f'Accuracy Score : {dt_Accuracy * 100:.2f} %\\n')\n",
    "\n",
    "# Precision\n",
    "dt_Precision = precision_score(y_test, y_pred_DT)\n",
    "print(f'Precision Score : {dt_Precision * 100:.2f} %\\n')\n",
    "\n",
    "# Recall\n",
    "dt_Recall = recall_score(y_test, y_pred_DT)\n",
    "print(f'Recall Score : {dt_Recall * 100:.2f} %\\n')\n",
    "\n",
    "# F1 Score\n",
    "dt_F1_Score = f1_score(y_test, y_pred_DT)\n",
    "print(f'F1 Score : {dt_F1_Score * 100:.2f} %\\n')\n",
    "\n",
    "# ROC AUC Score\n",
    "dt_ROC_AUC = roc_auc_score(y_test, y_pred_DT)\n",
    "print(f'AUC_ROC : {dt_ROC_AUC * 100:.2f} %\\n')"
   ]
  },
  {
   "cell_type": "markdown",
   "id": "f01baedb-8658-4874-ac0d-effb4a663642",
   "metadata": {},
   "source": [
    "### Naive Bayes model"
   ]
  },
  {
   "cell_type": "code",
   "execution_count": 21,
   "id": "a6143a9f-b9b2-4860-9f41-30fbee6267df",
   "metadata": {},
   "outputs": [
    {
     "name": "stdout",
     "output_type": "stream",
     "text": [
      "Training accuracy: 99.24 %\n",
      "Testing accuracy: 99.23 %\n"
     ]
    }
   ],
   "source": [
    "nb_model= GaussianNB()\n",
    "nb_model.fit(x_train_scale, y_train)\n",
    "y_pred_NB = nb_model.predict(x_test_scale)\n",
    "\n",
    "# Quick evaluation\n",
    "Train_Accuracy = nb_model.score(x_train_scale, y_train)\n",
    "Test_Accuracy = nb_model.score(x_test_scale, y_test)\n",
    "print(f'Training accuracy: {Train_Accuracy*100:.2f} %')\n",
    "print(f'Testing accuracy: {Test_Accuracy*100:.2f} %')"
   ]
  },
  {
   "cell_type": "markdown",
   "id": "1a08749e-8a49-4aa5-b69b-ca1ac95823bd",
   "metadata": {},
   "source": [
    "### Evaulation of Naive Bayes"
   ]
  },
  {
   "cell_type": "code",
   "execution_count": 22,
   "id": "ec999fca-2d79-4f2e-a543-1b93fc309ed9",
   "metadata": {},
   "outputs": [
    {
     "name": "stdout",
     "output_type": "stream",
     "text": [
      "Accuracy Score : 99.23 %\n",
      "\n",
      "Precision Score : 2.93 %\n",
      "\n",
      "Recall Score : 15.62 %\n",
      "\n",
      "F1 Score : 4.93 %\n",
      "\n",
      "AUC_ROC : 57.48 %\n",
      "\n"
     ]
    }
   ],
   "source": [
    "# Accuracy\n",
    "nb_Accuracy = accuracy_score(y_test, y_pred_NB)\n",
    "print(f'Accuracy Score : {nb_Accuracy * 100:.2f} %\\n')\n",
    "\n",
    "# Precision\n",
    "nb_Precision = precision_score(y_test, y_pred_NB)\n",
    "print(f'Precision Score : {nb_Precision * 100:.2f} %\\n')\n",
    "\n",
    "# Recall\n",
    "nb_Recall = recall_score(y_test, y_pred_NB)\n",
    "print(f'Recall Score : {nb_Recall * 100:.2f} %\\n')\n",
    "\n",
    "# F1 Score\n",
    "nb_F1_Score = f1_score(y_test, y_pred_NB)\n",
    "print(f'F1 Score : {nb_F1_Score * 100:.2f} %\\n')\n",
    "\n",
    "# ROC AUC Score\n",
    "nb_ROC_AUC = roc_auc_score(y_test, y_pred_NB)\n",
    "print(f'AUC_ROC : {nb_ROC_AUC * 100:.2f} %\\n')"
   ]
  },
  {
   "cell_type": "code",
   "execution_count": 23,
   "id": "81917116-ef1b-4065-b2e6-b3d7e67792e7",
   "metadata": {},
   "outputs": [
    {
     "name": "stdout",
     "output_type": "stream",
     "text": [
      "                 Model   Accuracy  Precision     Recall   F1 Score    ROC AUC\n",
      "0  Logistic Regression  99.915994  87.482993  39.691358  54.607219  69.842060\n",
      "1        Decision Tree  99.976739  91.169154  90.493827  90.830235  95.241327\n",
      "2          Naive Bayes  99.233020   2.926209  15.617284   4.928891  57.478444\n"
     ]
    }
   ],
   "source": [
    "def evaluate_model(y_test, y_pred):\n",
    "    return [\n",
    "        accuracy_score(y_test, y_pred),\n",
    "        precision_score(y_test, y_pred),\n",
    "        recall_score(y_test, y_pred),\n",
    "        f1_score(y_test, y_pred),\n",
    "        roc_auc_score(y_test, y_pred)\n",
    "    ]\n",
    "\n",
    " # model names and their predictions\n",
    "models = [\n",
    "    ('Logistic Regression', y_pred_LR),\n",
    "    ('Decision Tree', y_pred_DT),\n",
    "    ('Naive Bayes', y_pred_NB)\n",
    "]\n",
    "\n",
    "# Creating the evaluation dataFrame\n",
    "evaluation = pd.DataFrame(\n",
    "    [\n",
    "        [model_name] + [metric * 100 for metric in evaluate_model(y_test, y_pred)]\n",
    "        for model_name, y_pred in models\n",
    "    ],\n",
    "    columns=['Model', 'Accuracy', 'Precision', 'Recall', 'F1 Score', 'ROC AUC']\n",
    ")\n",
    "\n",
    "print(evaluation)"
   ]
  },
  {
   "cell_type": "markdown",
   "id": "cb7e0046-324c-4120-8fb1-ffe3d694748b",
   "metadata": {},
   "source": [
    "### prevention that could be adopted \n",
    "\n",
    "The company should utilize the machine learning model by using real-time monitoring systems so as to continuing monitoring transaction, enabling prompt detection of suspicious patterns.\n",
    "\n",
    "Placing transaction Amount limitation can help to monitor  different transaction based on types of accounts particularly for new accounts or those exhibiting unusual activity.\n",
    "\n",
    "Enhancing  Authentication Procedures can help to Strengthen user authentication mechanisms, such as multi-factor authentication (MFA), to verify the legitimacy of transactions.\n",
    "\n"
   ]
  },
  {
   "cell_type": "markdown",
   "id": "002f3eb3-4065-423e-b96e-29b4bcd9a175",
   "metadata": {},
   "source": [
    "### To determine if this model will work:\n",
    "we have to monitor  key performance metrics, conducting regular evaluations, and using controlled experiments,one can  effectively determine whether the new preventative measures are working and make necessary adjustments to improve their fraud detection systems."
   ]
  }
 ],
 "metadata": {
  "kernelspec": {
   "display_name": "Python 3 (ipykernel)",
   "language": "python",
   "name": "python3"
  },
  "language_info": {
   "codemirror_mode": {
    "name": "ipython",
    "version": 3
   },
   "file_extension": ".py",
   "mimetype": "text/x-python",
   "name": "python",
   "nbconvert_exporter": "python",
   "pygments_lexer": "ipython3",
   "version": "3.11.7"
  }
 },
 "nbformat": 4,
 "nbformat_minor": 5
}
